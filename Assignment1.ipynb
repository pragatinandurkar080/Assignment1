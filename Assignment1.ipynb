{
 "cells": [
  {
   "cell_type": "code",
   "execution_count": 17,
   "id": "459f5096-3bc8-4089-b4d5-d576b2aa7885",
   "metadata": {},
   "outputs": [],
   "source": [
    "#pip install psycopg2-binary"
   ]
  },
  {
   "cell_type": "code",
   "execution_count": 18,
   "id": "dda813f6-5ef8-4145-8c58-b47daca8a38a",
   "metadata": {},
   "outputs": [],
   "source": [
    "#pip install openai"
   ]
  },
  {
   "cell_type": "code",
   "execution_count": 19,
   "id": "23dd3de1-3d8d-4d9d-bb31-d96aeab746a8",
   "metadata": {},
   "outputs": [],
   "source": [
    "#pip install openai==0.28"
   ]
  },
  {
   "cell_type": "markdown",
   "id": "9ab543d2-20d7-4674-ac9f-2074e04dfde0",
   "metadata": {},
   "source": [
    "Import getpass library to Hide your Password and API_KEY"
   ]
  },
  {
   "cell_type": "code",
   "execution_count": 2,
   "id": "ca8d4c73-caad-41ce-bcb4-76cd9b6f8b0b",
   "metadata": {},
   "outputs": [],
   "source": [
    "import getpass"
   ]
  },
  {
   "cell_type": "code",
   "execution_count": 3,
   "id": "ce5deaad-195d-4007-a0a6-fb4b6fc03331",
   "metadata": {},
   "outputs": [],
   "source": [
    "import psycopg2"
   ]
  },
  {
   "cell_type": "code",
   "execution_count": 4,
   "id": "7d87d92a-3f75-46ab-bdcc-0f263cd6d8cf",
   "metadata": {},
   "outputs": [],
   "source": [
    "from psycopg2 import sql"
   ]
  },
  {
   "cell_type": "code",
   "execution_count": 5,
   "id": "858933c2-eccd-49fd-bcd4-9da527e43b95",
   "metadata": {},
   "outputs": [
    {
     "name": "stdin",
     "output_type": "stream",
     "text": [
      "Enter a password ········\n"
     ]
    }
   ],
   "source": [
    "# Connecting to PostgreSQL via jupiter notebook\n",
    "conn = psycopg2.connect(\n",
    "    database=\"Assignment1\",\n",
    "    user=\"postgres\",\n",
    "    password=getpass.getpass('Enter a password'),\n",
    "    host=\"127.0.0.1\",\n",
    "    port=\"5432\"\n",
    ")"
   ]
  },
  {
   "cell_type": "code",
   "execution_count": 6,
   "id": "72eaa5af-67b1-49b0-b36e-0fe7588aa7ff",
   "metadata": {},
   "outputs": [],
   "source": [
    "# Create a cursor object\n",
    "cursor = conn.cursor()"
   ]
  },
  {
   "cell_type": "code",
   "execution_count": 7,
   "id": "c9a29679-b587-4520-abe5-0d47053bf67b",
   "metadata": {},
   "outputs": [],
   "source": [
    "# Check if there is data in the Orders table\n",
    "check_query = sql.SQL(\"SELECT COUNT(*) FROM Orders\")\n",
    "\n",
    "cursor.execute(check_query)\n",
    "result = cursor.fetchone()"
   ]
  },
  {
   "cell_type": "markdown",
   "id": "042ddf05-7c7d-46a2-9895-211d287c6da5",
   "metadata": {},
   "source": [
    "Insert Data directly into the PostGres Orders,OrderDetails,Products and Customers Tables"
   ]
  },
  {
   "cell_type": "code",
   "execution_count": 9,
   "id": "187d415b-cc4b-414d-99f6-a3c43c9fb8d6",
   "metadata": {},
   "outputs": [],
   "source": [
    "# If there is no data, insert the sample data into the Orders table\n",
    "if result and result[0] == 0:\n",
    "# Sample data to be inserted in orders table\n",
    "    data_to_insert = [\n",
    "        (1, 101, '2024-01-30', '10:00 AM'),\n",
    "        (2, 102, '2024-01-30', '02:30 PM'),\n",
    "        (3, 103, '2024-01-31', '08:45 AM'),\n",
    "        (4, 104, '2024-01-31', '01:15 PM'),\n",
    "        (5, 105, '2024-02-01', '11:30 AM')\n",
    "    ]\n",
    "\n",
    "# Define the SQL statement for insertion into orders table\n",
    "    insert_query = sql.SQL(\"\"\"\n",
    "        INSERT INTO Orders (OrderID, CustomerID, OrderDate, OrderTime)\n",
    "        VALUES (%s, %s, %s, %s)\n",
    "    \"\"\")\n",
    "\n",
    "# Execute the insertion query for each set of data into orders table\n",
    "    for data in data_to_insert:\n",
    "        cursor.execute(insert_query, data)"
   ]
  },
  {
   "cell_type": "code",
   "execution_count": 10,
   "id": "7a624a41-f17b-4b35-88db-1433d42d7635",
   "metadata": {},
   "outputs": [],
   "source": [
    "# Check if there is data in the Orders table\n",
    "check_query = sql.SQL(\"SELECT COUNT(*) FROM OrderDetails\")\n",
    "\n",
    "cursor.execute(check_query)\n",
    "result = cursor.fetchone()"
   ]
  },
  {
   "cell_type": "code",
   "execution_count": 12,
   "id": "230197c3-9190-43e2-a573-c0bc4d543148",
   "metadata": {},
   "outputs": [],
   "source": [
    "# If there is no data, insert the sample data into the Orders table\n",
    "if result and result[0] == 0:\n",
    "# Sample data to be inserted into OrderDetails table\n",
    "    data_to_insert_orderdetails = [\n",
    "        (1001, 1,99, 6),\n",
    "        (1002, 2,88, 88),\n",
    "        (1003, 3,77, 8),\n",
    "        (1004, 3,66, 65),\n",
    "        (1005, 2,55, 3)\n",
    "    ]\n",
    "\n",
    "# Define the SQL statement for insertion into OrderDetails table\n",
    "    insert_query_orderdetails = sql.SQL(\"\"\"\n",
    "        INSERT INTO OrderDetails (OrderDetailID, OrderID, ProductID, Quantity)\n",
    "        VALUES (%s, %s, %s, %s)\n",
    "    \"\"\")\n",
    "\n",
    "# Execute the insertion query for each set of data into OrderDetails table\n",
    "    for data in data_to_insert_orderdetails:\n",
    "        cursor.execute(insert_query_orderdetails, data)"
   ]
  },
  {
   "cell_type": "code",
   "execution_count": 14,
   "id": "33a343fc-7746-4dee-9d7b-fd63e0bb1ed5",
   "metadata": {},
   "outputs": [],
   "source": [
    "# Check if there is data in the Orders table\n",
    "check_query = sql.SQL(\"SELECT COUNT(*) FROM Products\")\n",
    "\n",
    "cursor.execute(check_query)\n",
    "result = cursor.fetchone()"
   ]
  },
  {
   "cell_type": "code",
   "execution_count": 15,
   "id": "309fc306-040b-404f-aead-38390058b11e",
   "metadata": {},
   "outputs": [],
   "source": [
    "# If there is no data, insert the sample data into the Orders table\n",
    "if result and result[0] == 0:\n",
    "# Sample data to be inserted into Products table\n",
    "    data_to_insert_products = [\n",
    "        (99, 'Product A', 'Category 1', 25.99, 50),\n",
    "        (88, 'Product B', 'Category 2', 19.99, 30),\n",
    "        (66, 'Product C', 'Category 1', 32.50, 20)\n",
    "    ]\n",
    "\n",
    "# Define the SQL statement for insertion into Products table\n",
    "    insert_query_products = sql.SQL(\"\"\"\n",
    "        INSERT INTO Products (ProductID, ProductName, Category, UnitPrice, Stock)\n",
    "        VALUES (%s, %s, %s, %s, %s)\n",
    "    \"\"\")\n",
    "\n",
    "# Execute the insertion query for each set of data into Products table\n",
    "    for data in data_to_insert_products:\n",
    "        cursor.execute(insert_query_products, data)"
   ]
  },
  {
   "cell_type": "code",
   "execution_count": 16,
   "id": "f1edbc4f-6bd8-4f57-b239-9448b49dfa1d",
   "metadata": {},
   "outputs": [],
   "source": [
    "# Check if there is data in the Orders table\n",
    "check_query = sql.SQL(\"SELECT COUNT(*) FROM Customers\")\n",
    "\n",
    "cursor.execute(check_query)\n",
    "result = cursor.fetchone()"
   ]
  },
  {
   "cell_type": "code",
   "execution_count": 17,
   "id": "9c5929cb-794c-465e-ace4-537811c6e1bf",
   "metadata": {},
   "outputs": [],
   "source": [
    "# If there is no data, insert the sample data into the Orders table\n",
    "if result and result[0] == 0:\n",
    "# Sample data to be inserted into Customers table\n",
    "    data_to_insert_customers = [\n",
    "        (101, 'John', 'Doe', 'john.doe@email.com', '123-456-7890'),\n",
    "        (102, 'Jane', 'Smith', 'jane.smith@email.com', '987-654-3210'),\n",
    "        (103, 'Bob', 'Johnson', 'bob.johnson@email.com', '456-789-0123')\n",
    "    ]\n",
    "\n",
    "# Define the SQL statement for insertion into Customers table\n",
    "    insert_query_customers = sql.SQL(\"\"\"\n",
    "        INSERT INTO Customers (CustomerID, FirstName, LastName, Email, Phone)\n",
    "        VALUES (%s, %s, %s, %s, %s)\n",
    "    \"\"\")\n",
    "\n",
    "# Execute the insertion query for each set of data into Customers table\n",
    "    for data in data_to_insert_customers:\n",
    "        cursor.execute(insert_query_customers, data) "
   ]
  },
  {
   "cell_type": "code",
   "execution_count": 18,
   "id": "e332fe43-a81d-4bc4-95d9-cd952ab50869",
   "metadata": {},
   "outputs": [],
   "source": [
    "# Commit the changes to the database\n",
    "conn.commit()"
   ]
  },
  {
   "cell_type": "markdown",
   "id": "cbfa172b-d4f8-42a6-946e-a9d4a96a5e8f",
   "metadata": {},
   "source": [
    "Got OpenAI to Generate SQL for the following instruction “Write a SQL query which computes the average total order value for all orders on 2024-01-30.”  \n",
    "Changed the date based on the what test data We have generated!"
   ]
  },
  {
   "cell_type": "code",
   "execution_count": 20,
   "id": "3e1091de-1a51-489d-ad6c-f1070ef90cce",
   "metadata": {},
   "outputs": [
    {
     "name": "stdin",
     "output_type": "stream",
     "text": [
      "Enter a API_KEY :  ········\n"
     ]
    },
    {
     "name": "stdout",
     "output_type": "stream",
     "text": [
      "Generated SQL query:\n",
      "SELECT AVG(total_order_value) AS average_order_value\n",
      "FROM (\n",
      "    SELECT SUM(od.Quantity * p.UnitPrice) AS total_order_value\n",
      "    FROM Orders o\n",
      "    JOIN OrderDetails od ON o.OrderID = od.OrderID\n",
      "    JOIN Products p ON od.ProductID = p.ProductID\n",
      "    WHERE o.OrderDate = '2024-01-30'\n",
      "    GROUP BY o.OrderID\n",
      ") AS order_values;\n"
     ]
    }
   ],
   "source": [
    "import openai\n",
    "\n",
    "openai.api_key = getpass.getpass('Enter a API_KEY : ')\n",
    "\n",
    "response = openai.ChatCompletion.create(\n",
    "    model=\"gpt-3.5-turbo\",\n",
    "    messages=[\n",
    "        {\n",
    "            \"role\": \"system\",\n",
    "            \"content\": \"Given the following SQL tables, your job is to write queries given a user’s request.\\n    \\n\"\n",
    "                       \"CREATE TABLE Orders (\\n\"\n",
    "                       \"  OrderID int,\\n\"\n",
    "                       \"  CustomerID int,\\n\"\n",
    "                       \"  OrderDate datetime,\\n\"\n",
    "                       \"  OrderTime varchar(8),\\n\"\n",
    "                       \"  PRIMARY KEY (OrderID)\\n\"\n",
    "                       \");\\n\"\n",
    "                       \"\\n\"\n",
    "                       \"CREATE TABLE OrderDetails (\\n\"\n",
    "                       \"  OrderDetailID int,\\n\"\n",
    "                       \"  OrderID int,\\n\"\n",
    "                       \"  ProductID int,\\n\"\n",
    "                       \"  Quantity int,\\n\"\n",
    "                       \"  PRIMARY KEY (OrderDetailID)\\n\"\n",
    "                       \");\\n\"\n",
    "                       \"\\n\"\n",
    "                       \"CREATE TABLE Products (\\n\"\n",
    "                       \"  ProductID int,\\n\"\n",
    "                       \"  ProductName varchar(50),\\n\"\n",
    "                       \"  Category varchar(50),\\n\"\n",
    "                       \"  UnitPrice decimal(10, 2),\\n\"\n",
    "                       \"  Stock int,\\n\"\n",
    "                       \"  PRIMARY KEY (ProductID)\\n\"\n",
    "                       \");\\n\"\n",
    "                       \"\\n\"\n",
    "                       \"CREATE TABLE Customers (\\n\"\n",
    "                       \"  CustomerID int,\\n\"\n",
    "                       \"  FirstName varchar(50),\\n\"\n",
    "                       \"  LastName varchar(50),\\n\"\n",
    "                       \"  Email varchar(100),\\n\"\n",
    "                       \"  Phone varchar(20),\\n\"\n",
    "                       \"  PRIMARY KEY (CustomerID)\\n\"\n",
    "                       \");\"\n",
    "        },\n",
    "        {\n",
    "            \"role\": \"user\",\n",
    "            \"content\": \"Write a SQL query which computes the average total order value for all orders on 2024-01-30.\"\n",
    "        }\n",
    "    ],\n",
    "    temperature=0.7,\n",
    "    max_tokens=200,\n",
    "    top_p=1\n",
    ")\n",
    "\n",
    "# Extract and print the generated SQL from the response\n",
    "generated_sql = response['choices'][0]['message']['content']\n",
    "print(\"Generated SQL query:\")\n",
    "print(generated_sql)\n"
   ]
  },
  {
   "cell_type": "markdown",
   "id": "bba31cfc-a5f3-41de-ac01-488dbc3a8dfc",
   "metadata": {},
   "source": [
    "Written a python code to take the above query and directly connect to Postgress to execute the statement and give you the results which you will display in your python console"
   ]
  },
  {
   "cell_type": "code",
   "execution_count": 21,
   "id": "1641c7d9-e77a-4e7c-9d3e-ee514fe6886b",
   "metadata": {},
   "outputs": [
    {
     "name": "stdout",
     "output_type": "stream",
     "text": [
      "Query results:\n",
      "957.53\n"
     ]
    }
   ],
   "source": [
    "# Execute the generated SQL query\n",
    "cursor.execute(generated_sql)\n",
    "\n",
    "# Fetch the results\n",
    "results = cursor.fetchall()\n",
    "\n",
    "# Display the results\n",
    "print(\"Query results:\")\n",
    "for row in results:\n",
    "    print(round(row[0],2))"
   ]
  },
  {
   "cell_type": "code",
   "execution_count": 87,
   "id": "dffc0d81-fa02-42ec-96ca-ed168f71eaf5",
   "metadata": {},
   "outputs": [],
   "source": [
    "# Close the cursor and connection\n",
    "cursor.close()\n",
    "conn.close()  "
   ]
  },
  {
   "cell_type": "code",
   "execution_count": null,
   "id": "742a37ad-1ff6-4d71-8a28-739909ca907f",
   "metadata": {},
   "outputs": [],
   "source": []
  }
 ],
 "metadata": {
  "kernelspec": {
   "display_name": "Python 3 (ipykernel)",
   "language": "python",
   "name": "python3"
  },
  "language_info": {
   "codemirror_mode": {
    "name": "ipython",
    "version": 3
   },
   "file_extension": ".py",
   "mimetype": "text/x-python",
   "name": "python",
   "nbconvert_exporter": "python",
   "pygments_lexer": "ipython3",
   "version": "3.10.9"
  }
 },
 "nbformat": 4,
 "nbformat_minor": 5
}
